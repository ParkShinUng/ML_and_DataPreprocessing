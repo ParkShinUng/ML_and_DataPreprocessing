{
 "cells": [
  {
   "cell_type": "markdown",
   "metadata": {},
   "source": [
    "### TV 가격 예측\n",
    "* id 일련번호는 사용하지 않음, 판매가는 레이블(종속변수)\n",
    "* 화면크기 ~ 부가기능이 입력데이터(독립변수)\n",
    "    - 1. 화면크기 : inch 단위\n",
    "    - 2. 형태 : 곡면형(1), 평면형(0)\n",
    "    - 3. 해상도 : ppi(pixel per inch) 값\n",
    "    - 4. 화면비율 - 16:9(1), 16:9 이외 (0)\n",
    "    - 5. LCD, 6.LED, 7.OLED, 8.QLED 여부 : yes(1), no(0)\n",
    "    - 9. 단자 : 단자의 개수\n",
    "    - 10. 부가기능 : 부가기능 개수\n",
    "* 화면크기가 60인치, 평면형, 해상도가 2160, 화면비율이 16:9, QLED, 단자가 3개, 부가기능 개수가 3개인 TV의 가격?"
   ]
  },
  {
   "cell_type": "code",
   "execution_count": 1,
   "metadata": {},
   "outputs": [
    {
     "name": "stdout",
     "output_type": "stream",
     "text": [
      "(7000, 12)\n"
     ]
    },
    {
     "data": {
      "text/html": [
       "<div>\n",
       "<style scoped>\n",
       "    .dataframe tbody tr th:only-of-type {\n",
       "        vertical-align: middle;\n",
       "    }\n",
       "\n",
       "    .dataframe tbody tr th {\n",
       "        vertical-align: top;\n",
       "    }\n",
       "\n",
       "    .dataframe thead th {\n",
       "        text-align: right;\n",
       "    }\n",
       "</style>\n",
       "<table border=\"1\" class=\"dataframe\">\n",
       "  <thead>\n",
       "    <tr style=\"text-align: right;\">\n",
       "      <th></th>\n",
       "      <th>ID</th>\n",
       "      <th>판매가</th>\n",
       "      <th>화면크기</th>\n",
       "      <th>형태</th>\n",
       "      <th>해상도</th>\n",
       "      <th>화면비율</th>\n",
       "      <th>LCD</th>\n",
       "      <th>LED</th>\n",
       "      <th>OLED</th>\n",
       "      <th>QLED</th>\n",
       "      <th>단자</th>\n",
       "      <th>부가기능</th>\n",
       "    </tr>\n",
       "  </thead>\n",
       "  <tbody>\n",
       "    <tr>\n",
       "      <th>0</th>\n",
       "      <td>8</td>\n",
       "      <td>396240</td>\n",
       "      <td>55</td>\n",
       "      <td>0</td>\n",
       "      <td>2160</td>\n",
       "      <td>1</td>\n",
       "      <td>0</td>\n",
       "      <td>1</td>\n",
       "      <td>0</td>\n",
       "      <td>0</td>\n",
       "      <td>3</td>\n",
       "      <td>1</td>\n",
       "    </tr>\n",
       "    <tr>\n",
       "      <th>1</th>\n",
       "      <td>9</td>\n",
       "      <td>412870</td>\n",
       "      <td>55</td>\n",
       "      <td>0</td>\n",
       "      <td>2160</td>\n",
       "      <td>1</td>\n",
       "      <td>0</td>\n",
       "      <td>1</td>\n",
       "      <td>0</td>\n",
       "      <td>0</td>\n",
       "      <td>3</td>\n",
       "      <td>1</td>\n",
       "    </tr>\n",
       "    <tr>\n",
       "      <th>2</th>\n",
       "      <td>10</td>\n",
       "      <td>414590</td>\n",
       "      <td>55</td>\n",
       "      <td>0</td>\n",
       "      <td>2160</td>\n",
       "      <td>1</td>\n",
       "      <td>0</td>\n",
       "      <td>1</td>\n",
       "      <td>0</td>\n",
       "      <td>0</td>\n",
       "      <td>3</td>\n",
       "      <td>1</td>\n",
       "    </tr>\n",
       "    <tr>\n",
       "      <th>3</th>\n",
       "      <td>14</td>\n",
       "      <td>418000</td>\n",
       "      <td>55</td>\n",
       "      <td>0</td>\n",
       "      <td>2160</td>\n",
       "      <td>1</td>\n",
       "      <td>0</td>\n",
       "      <td>1</td>\n",
       "      <td>0</td>\n",
       "      <td>0</td>\n",
       "      <td>3</td>\n",
       "      <td>1</td>\n",
       "    </tr>\n",
       "    <tr>\n",
       "      <th>4</th>\n",
       "      <td>15</td>\n",
       "      <td>419000</td>\n",
       "      <td>55</td>\n",
       "      <td>0</td>\n",
       "      <td>2160</td>\n",
       "      <td>1</td>\n",
       "      <td>0</td>\n",
       "      <td>1</td>\n",
       "      <td>0</td>\n",
       "      <td>0</td>\n",
       "      <td>3</td>\n",
       "      <td>1</td>\n",
       "    </tr>\n",
       "  </tbody>\n",
       "</table>\n",
       "</div>"
      ],
      "text/plain": [
       "   ID     판매가  화면크기  형태   해상도  화면비율  LCD  LED  OLED  QLED  단자  부가기능\n",
       "0   8  396240    55   0  2160     1    0    1     0     0   3     1\n",
       "1   9  412870    55   0  2160     1    0    1     0     0   3     1\n",
       "2  10  414590    55   0  2160     1    0    1     0     0   3     1\n",
       "3  14  418000    55   0  2160     1    0    1     0     0   3     1\n",
       "4  15  419000    55   0  2160     1    0    1     0     0   3     1"
      ]
     },
     "execution_count": 1,
     "metadata": {},
     "output_type": "execute_result"
    }
   ],
   "source": [
    "import pandas as pd\n",
    "\n",
    "train = pd.read_excel('data/네이버TV가격_최종.xlsx', sheet_name='train')\n",
    "print(train.shape)\n",
    "train.head()"
   ]
  },
  {
   "cell_type": "code",
   "execution_count": 2,
   "metadata": {},
   "outputs": [
    {
     "name": "stdout",
     "output_type": "stream",
     "text": [
      "<class 'pandas.core.frame.DataFrame'>\n",
      "RangeIndex: 7000 entries, 0 to 6999\n",
      "Data columns (total 12 columns):\n",
      " #   Column  Non-Null Count  Dtype\n",
      "---  ------  --------------  -----\n",
      " 0   ID      7000 non-null   int64\n",
      " 1   판매가     7000 non-null   int64\n",
      " 2   화면크기    7000 non-null   int64\n",
      " 3   형태      7000 non-null   int64\n",
      " 4   해상도     7000 non-null   int64\n",
      " 5   화면비율    7000 non-null   int64\n",
      " 6   LCD     7000 non-null   int64\n",
      " 7   LED     7000 non-null   int64\n",
      " 8   OLED    7000 non-null   int64\n",
      " 9   QLED    7000 non-null   int64\n",
      " 10  단자      7000 non-null   int64\n",
      " 11  부가기능    7000 non-null   int64\n",
      "dtypes: int64(12)\n",
      "memory usage: 656.4 KB\n"
     ]
    }
   ],
   "source": [
    "train.info()"
   ]
  },
  {
   "cell_type": "code",
   "execution_count": 4,
   "metadata": {},
   "outputs": [
    {
     "name": "stdout",
     "output_type": "stream",
     "text": [
      "1455000    18\n",
      "2910000    13\n",
      "3000000    13\n",
      "1940000    12\n",
      "4000000    10\n",
      "           ..\n",
      "2335830     1\n",
      "3219990     1\n",
      "1721610     1\n",
      "217280      1\n",
      "983040      1\n",
      "Name: 판매가, Length: 6231, dtype: int64\n"
     ]
    }
   ],
   "source": [
    "print(train['판매가'].value_counts())"
   ]
  },
  {
   "cell_type": "code",
   "execution_count": 5,
   "metadata": {},
   "outputs": [
    {
     "name": "stdout",
     "output_type": "stream",
     "text": [
      "(7000, 10)\n"
     ]
    },
    {
     "data": {
      "text/html": [
       "<div>\n",
       "<style scoped>\n",
       "    .dataframe tbody tr th:only-of-type {\n",
       "        vertical-align: middle;\n",
       "    }\n",
       "\n",
       "    .dataframe tbody tr th {\n",
       "        vertical-align: top;\n",
       "    }\n",
       "\n",
       "    .dataframe thead th {\n",
       "        text-align: right;\n",
       "    }\n",
       "</style>\n",
       "<table border=\"1\" class=\"dataframe\">\n",
       "  <thead>\n",
       "    <tr style=\"text-align: right;\">\n",
       "      <th></th>\n",
       "      <th>화면크기</th>\n",
       "      <th>형태</th>\n",
       "      <th>해상도</th>\n",
       "      <th>화면비율</th>\n",
       "      <th>LCD</th>\n",
       "      <th>LED</th>\n",
       "      <th>OLED</th>\n",
       "      <th>QLED</th>\n",
       "      <th>단자</th>\n",
       "      <th>부가기능</th>\n",
       "    </tr>\n",
       "  </thead>\n",
       "  <tbody>\n",
       "    <tr>\n",
       "      <th>0</th>\n",
       "      <td>55</td>\n",
       "      <td>0</td>\n",
       "      <td>2160</td>\n",
       "      <td>1</td>\n",
       "      <td>0</td>\n",
       "      <td>1</td>\n",
       "      <td>0</td>\n",
       "      <td>0</td>\n",
       "      <td>3</td>\n",
       "      <td>1</td>\n",
       "    </tr>\n",
       "    <tr>\n",
       "      <th>1</th>\n",
       "      <td>55</td>\n",
       "      <td>0</td>\n",
       "      <td>2160</td>\n",
       "      <td>1</td>\n",
       "      <td>0</td>\n",
       "      <td>1</td>\n",
       "      <td>0</td>\n",
       "      <td>0</td>\n",
       "      <td>3</td>\n",
       "      <td>1</td>\n",
       "    </tr>\n",
       "    <tr>\n",
       "      <th>2</th>\n",
       "      <td>55</td>\n",
       "      <td>0</td>\n",
       "      <td>2160</td>\n",
       "      <td>1</td>\n",
       "      <td>0</td>\n",
       "      <td>1</td>\n",
       "      <td>0</td>\n",
       "      <td>0</td>\n",
       "      <td>3</td>\n",
       "      <td>1</td>\n",
       "    </tr>\n",
       "    <tr>\n",
       "      <th>3</th>\n",
       "      <td>55</td>\n",
       "      <td>0</td>\n",
       "      <td>2160</td>\n",
       "      <td>1</td>\n",
       "      <td>0</td>\n",
       "      <td>1</td>\n",
       "      <td>0</td>\n",
       "      <td>0</td>\n",
       "      <td>3</td>\n",
       "      <td>1</td>\n",
       "    </tr>\n",
       "    <tr>\n",
       "      <th>4</th>\n",
       "      <td>55</td>\n",
       "      <td>0</td>\n",
       "      <td>2160</td>\n",
       "      <td>1</td>\n",
       "      <td>0</td>\n",
       "      <td>1</td>\n",
       "      <td>0</td>\n",
       "      <td>0</td>\n",
       "      <td>3</td>\n",
       "      <td>1</td>\n",
       "    </tr>\n",
       "  </tbody>\n",
       "</table>\n",
       "</div>"
      ],
      "text/plain": [
       "   화면크기  형태   해상도  화면비율  LCD  LED  OLED  QLED  단자  부가기능\n",
       "0    55   0  2160     1    0    1     0     0   3     1\n",
       "1    55   0  2160     1    0    1     0     0   3     1\n",
       "2    55   0  2160     1    0    1     0     0   3     1\n",
       "3    55   0  2160     1    0    1     0     0   3     1\n",
       "4    55   0  2160     1    0    1     0     0   3     1"
      ]
     },
     "execution_count": 5,
     "metadata": {},
     "output_type": "execute_result"
    }
   ],
   "source": [
    "# 훈련데이터의 종속변수 추출하기 \n",
    "X_train = train.loc[:, '화면크기':'부가기능']\n",
    "print(X_train.shape)\n",
    "X_train.head()"
   ]
  },
  {
   "cell_type": "code",
   "execution_count": 6,
   "metadata": {},
   "outputs": [
    {
     "name": "stdout",
     "output_type": "stream",
     "text": [
      "(7000,)\n"
     ]
    },
    {
     "data": {
      "text/plain": [
       "0    396240\n",
       "1    412870\n",
       "2    414590\n",
       "3    418000\n",
       "4    419000\n",
       "Name: 판매가, dtype: int64"
      ]
     },
     "execution_count": 6,
     "metadata": {},
     "output_type": "execute_result"
    }
   ],
   "source": [
    "# 훈련데이터의 독립변수 추출하기\n",
    "y_train = train['판매가']\n",
    "print(y_train.shape)\n",
    "y_train.head()"
   ]
  },
  {
   "cell_type": "code",
   "execution_count": null,
   "metadata": {},
   "outputs": [],
   "source": []
  }
 ],
 "metadata": {
  "kernelspec": {
   "display_name": "Python 3",
   "language": "python",
   "name": "python3"
  },
  "language_info": {
   "codemirror_mode": {
    "name": "ipython",
    "version": 3
   },
   "file_extension": ".py",
   "mimetype": "text/x-python",
   "name": "python",
   "nbconvert_exporter": "python",
   "pygments_lexer": "ipython3",
   "version": "3.8.3"
  }
 },
 "nbformat": 4,
 "nbformat_minor": 4
}
