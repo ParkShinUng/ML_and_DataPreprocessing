{
 "cells": [
  {
   "cell_type": "markdown",
   "metadata": {},
   "source": [
    "### 선형회귀분석\n",
    "* 예측 문제에 사용하는 알고리즘\n",
    "* 새로운 데이터가 들어왔을 때 어떤 '값'이 될지 예측하는 문제\n",
    "* 주어진 데이터를 대표하는 하나의 직선을 찾는 것인데 이 직선을 회귀선이라고 부르고 이 선을 함수로 표현한 것을 회귀식이라 한다.\n",
    "\n",
    "* 일차함수 y = ax + b\n",
    "* 종속변수 y와 한개 이상의 독립변수 x와 선형상관관계를 모델링하는 회귀분석기법\n",
    "* 선형회귀는 특성(feature)의 개수에 따라 단순선형회귀(simple linear regression)와 \n",
    "  다중선형회귀(multiple linear regression)으로 분류되어진다.\n",
    "* Lasso(Least Absolute Shrinkage And Selection Operator)는 선형회귀의 단점을 보안하기 위해서 개발된 모델\n",
    "* 아버지와 아들의 키를 가지고 아들의 키를 구하는 단순선형회귀식을 만들고 해석"
   ]
  },
  {
   "cell_type": "code",
   "execution_count": 2,
   "metadata": {},
   "outputs": [
    {
     "name": "stdout",
     "output_type": "stream",
     "text": [
      "(755, 2)\n"
     ]
    },
    {
     "data": {
      "text/html": [
       "<div>\n",
       "<style scoped>\n",
       "    .dataframe tbody tr th:only-of-type {\n",
       "        vertical-align: middle;\n",
       "    }\n",
       "\n",
       "    .dataframe tbody tr th {\n",
       "        vertical-align: top;\n",
       "    }\n",
       "\n",
       "    .dataframe thead th {\n",
       "        text-align: right;\n",
       "    }\n",
       "</style>\n",
       "<table border=\"1\" class=\"dataframe\">\n",
       "  <thead>\n",
       "    <tr style=\"text-align: right;\">\n",
       "      <th></th>\n",
       "      <th>Father</th>\n",
       "      <th>Son</th>\n",
       "    </tr>\n",
       "  </thead>\n",
       "  <tbody>\n",
       "    <tr>\n",
       "      <th>0</th>\n",
       "      <td>165.100</td>\n",
       "      <td>151.892</td>\n",
       "    </tr>\n",
       "    <tr>\n",
       "      <th>1</th>\n",
       "      <td>165.100</td>\n",
       "      <td>160.782</td>\n",
       "    </tr>\n",
       "    <tr>\n",
       "      <th>2</th>\n",
       "      <td>167.132</td>\n",
       "      <td>159.512</td>\n",
       "    </tr>\n",
       "    <tr>\n",
       "      <th>3</th>\n",
       "      <td>155.194</td>\n",
       "      <td>163.322</td>\n",
       "    </tr>\n",
       "    <tr>\n",
       "      <th>4</th>\n",
       "      <td>160.020</td>\n",
       "      <td>163.068</td>\n",
       "    </tr>\n",
       "  </tbody>\n",
       "</table>\n",
       "</div>"
      ],
      "text/plain": [
       "    Father      Son\n",
       "0  165.100  151.892\n",
       "1  165.100  160.782\n",
       "2  167.132  159.512\n",
       "3  155.194  163.322\n",
       "4  160.020  163.068"
      ]
     },
     "execution_count": 2,
     "metadata": {},
     "output_type": "execute_result"
    }
   ],
   "source": [
    "import pandas as pd\n",
    "\n",
    "train = pd.read_excel('data/아버지아들키.xlsx', sheet_name='train')\n",
    "print(train.shape)\n",
    "train.head()"
   ]
  },
  {
   "cell_type": "code",
   "execution_count": 3,
   "metadata": {},
   "outputs": [
    {
     "name": "stdout",
     "output_type": "stream",
     "text": [
      "(755, 1) (755,)\n"
     ]
    }
   ],
   "source": [
    "# 훈련데이터 추출\n",
    "# print(type(train['Father']), type(train[['Father']])) # 앞은 시리즈 타입, 뒤는 데이터프레임 타입이므로 뒤에방식 이용\n",
    "X_train = train[['Father']]\n",
    "y_train = train['Son']\n",
    "print(X_train.shape, y_train.shape)"
   ]
  },
  {
   "cell_type": "code",
   "execution_count": 4,
   "metadata": {},
   "outputs": [
    {
     "name": "stdout",
     "output_type": "stream",
     "text": [
      "(323, 2)\n"
     ]
    },
    {
     "data": {
      "text/html": [
       "<div>\n",
       "<style scoped>\n",
       "    .dataframe tbody tr th:only-of-type {\n",
       "        vertical-align: middle;\n",
       "    }\n",
       "\n",
       "    .dataframe tbody tr th {\n",
       "        vertical-align: top;\n",
       "    }\n",
       "\n",
       "    .dataframe thead th {\n",
       "        text-align: right;\n",
       "    }\n",
       "</style>\n",
       "<table border=\"1\" class=\"dataframe\">\n",
       "  <thead>\n",
       "    <tr style=\"text-align: right;\">\n",
       "      <th></th>\n",
       "      <th>Father</th>\n",
       "      <th>Son</th>\n",
       "    </tr>\n",
       "  </thead>\n",
       "  <tbody>\n",
       "    <tr>\n",
       "      <th>0</th>\n",
       "      <td>160.782</td>\n",
       "      <td>160.528</td>\n",
       "    </tr>\n",
       "    <tr>\n",
       "      <th>1</th>\n",
       "      <td>166.116</td>\n",
       "      <td>162.814</td>\n",
       "    </tr>\n",
       "    <tr>\n",
       "      <th>2</th>\n",
       "      <td>165.608</td>\n",
       "      <td>164.592</td>\n",
       "    </tr>\n",
       "    <tr>\n",
       "      <th>3</th>\n",
       "      <td>169.672</td>\n",
       "      <td>166.370</td>\n",
       "    </tr>\n",
       "    <tr>\n",
       "      <th>4</th>\n",
       "      <td>176.530</td>\n",
       "      <td>166.370</td>\n",
       "    </tr>\n",
       "  </tbody>\n",
       "</table>\n",
       "</div>"
      ],
      "text/plain": [
       "    Father      Son\n",
       "0  160.782  160.528\n",
       "1  166.116  162.814\n",
       "2  165.608  164.592\n",
       "3  169.672  166.370\n",
       "4  176.530  166.370"
      ]
     },
     "execution_count": 4,
     "metadata": {},
     "output_type": "execute_result"
    }
   ],
   "source": [
    "test = pd.read_excel('data/아버지아들키.xlsx', sheet_name='test')\n",
    "print(test.shape)\n",
    "test.head()"
   ]
  },
  {
   "cell_type": "code",
   "execution_count": 5,
   "metadata": {},
   "outputs": [
    {
     "name": "stdout",
     "output_type": "stream",
     "text": [
      "(323, 1) (323, 1)\n"
     ]
    }
   ],
   "source": [
    "# 검증데이터 추출하기\n",
    "X_test = test[['Father']]\n",
    "y_test = test[['Son']]\n",
    "print(X_test.shape, y_test.shape)"
   ]
  },
  {
   "cell_type": "markdown",
   "metadata": {},
   "source": [
    "#### 2. 모델 생성, 학습/예측/검증 하기\n",
    "* LinearRegression 모델 사용\n",
    "* R square(결정계수)를 구하는 공식 : 1-(SSE/SST)\n",
    "* SSE는 관측값에서 예측값을 뺀 수치의 제곱의 합\n",
    "* SSR은 예측값에서 관측값 평균을 뺀 수치의 제곱의 합\n",
    "* SSE와 SSR을 더한 값이 SST > SST = SSE + SSR\n",
    "* LinearRegression의 score() 함수를 사용하면 Rsquare을 구할 수 있다.\n",
    "* Rsquare(결정계수)는 0 ~ 1 사이의 값을 가진다.\n",
    "* "
   ]
  },
  {
   "cell_type": "code",
   "execution_count": 6,
   "metadata": {},
   "outputs": [
    {
     "name": "stdout",
     "output_type": "stream",
     "text": [
      "예측 정확도 점수 0.2519977905846619\n",
      "예측 정확도 점수 0.2519977905846619\n",
      "[168.22133267]\n",
      "상관계수 coefficient  [0.51820601]\n",
      "상수항 intercept  85.3083706214848\n",
      "[175.99442287]\n"
     ]
    }
   ],
   "source": [
    "from sklearn.linear_model import LinearRegression\n",
    "from sklearn.metrics import r2_score\n",
    "\n",
    "model = LinearRegression()\n",
    "\n",
    "# 학습하기\n",
    "model.fit(X_train, y_train)\n",
    "\n",
    "# 예측하기\n",
    "y_pred = model.predict(X_test)\n",
    "\n",
    "# 예측의 정확도 점수\n",
    "score = r2_score(y_test, y_pred)\n",
    "print(f'예측 정확도 점수 {score}')\n",
    "\n",
    "# LinearRegression 의 score() 함수를 통해서 R Square 값 구하기\n",
    "rsquare = model.score(X_test, y_test)\n",
    "print(f'예측 정확도 점수 {rsquare}')\n",
    "\n",
    "# 아버지의 키가 160일때 아들의 키는?\n",
    "print(model.predict([[160]]))\n",
    "print('상관계수 coefficient ', model.coef_)\n",
    "print('상수항 intercept ', model.intercept_)\n",
    "print(model.predict([[175]]))"
   ]
  },
  {
   "cell_type": "code",
   "execution_count": 8,
   "metadata": {},
   "outputs": [
    {
     "name": "stdout",
     "output_type": "stream",
     "text": [
      "[168.22133267]\n",
      "회귀계수 coefficient  [0.51820601]\n",
      "절편 intercept  85.30837062148485\n"
     ]
    }
   ],
   "source": [
    "model = LinearRegression(normalize=True)\n",
    "\n",
    "# 학습하기\n",
    "model.fit(X_train, y_train)\n",
    "\n",
    "# 예측하기\n",
    "y_pred = model.predict(X_test)\n",
    "\n",
    "print(model.predict([[160]]))\n",
    "print('회귀계수 coefficient ', model.coef_)\n",
    "print('절편 intercept ', model.intercept_)"
   ]
  },
  {
   "cell_type": "markdown",
   "metadata": {},
   "source": [
    "* y = ax + b\n",
    "* x : 독립변수, y = 종속변수, a = 회귀계수(coef_), b = 절편(intercept_)\n",
    "* model.coef_ 는 coefficient는 식의 기울기, intercept_는 식의 상수항을 나타낸다.\n",
    "* 아들키 = coefficient(상관계수)-0.51820601 * 아버지키 + intercept(절편)-85.3083706214848\n",
    "* 아버지의 키가 1cm 클 때마다 아들의 키는 0.51cm 정도 커진다."
   ]
  },
  {
   "cell_type": "code",
   "execution_count": null,
   "metadata": {},
   "outputs": [],
   "source": [
    "\n"
   ]
  }
 ],
 "metadata": {
  "kernelspec": {
   "display_name": "Python 3",
   "language": "python",
   "name": "python3"
  },
  "language_info": {
   "codemirror_mode": {
    "name": "ipython",
    "version": 3
   },
   "file_extension": ".py",
   "mimetype": "text/x-python",
   "name": "python",
   "nbconvert_exporter": "python",
   "pygments_lexer": "ipython3",
   "version": "3.8.3"
  }
 },
 "nbformat": 4,
 "nbformat_minor": 4
}
