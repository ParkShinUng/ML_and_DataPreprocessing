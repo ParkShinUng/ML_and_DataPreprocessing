{
 "cells": [
  {
   "cell_type": "code",
   "execution_count": 10,
   "metadata": {},
   "outputs": [
    {
     "name": "stdout",
     "output_type": "stream",
     "text": [
      "Collecting pyarrow\n",
      "  Using cached pyarrow-2.0.0-cp38-cp38-win_amd64.whl (10.7 MB)\n",
      "Requirement already satisfied: numpy>=1.14 in c:\\programdata\\anaconda3\\lib\\site-packages (from pyarrow) (1.18.5)\n",
      "Installing collected packages: pyarrow\n",
      "Successfully installed pyarrow-2.0.0\n",
      "Note: you may need to restart the kernel to use updated packages.\n"
     ]
    }
   ],
   "source": [
    "pip install pyarrow"
   ]
  },
  {
   "cell_type": "markdown",
   "metadata": {},
   "source": [
    "### Pandas read_csv()"
   ]
  },
  {
   "cell_type": "markdown",
   "metadata": {},
   "source": [
    "#### 1. 신용등급 csv 분리"
   ]
  },
  {
   "cell_type": "code",
   "execution_count": 1,
   "metadata": {},
   "outputs": [],
   "source": [
    "import pandas as pd\n",
    "import dask.dataframe as dd\n",
    "\n",
    "folder_name = 'crisis_data'\n",
    "filename = 'data/TC_EN_AREA_CRISIS_INFO.csv'"
   ]
  },
  {
   "cell_type": "code",
   "execution_count": 62,
   "metadata": {},
   "outputs": [
    {
     "data": {
      "text/html": [
       "<div>\n",
       "<style scoped>\n",
       "    .dataframe tbody tr th:only-of-type {\n",
       "        vertical-align: middle;\n",
       "    }\n",
       "\n",
       "    .dataframe tbody tr th {\n",
       "        vertical-align: top;\n",
       "    }\n",
       "\n",
       "    .dataframe thead th {\n",
       "        text-align: right;\n",
       "    }\n",
       "</style>\n",
       "<table border=\"1\" class=\"dataframe\">\n",
       "  <thead>\n",
       "    <tr style=\"text-align: right;\">\n",
       "      <th></th>\n",
       "      <th>man_city</th>\n",
       "      <th>man_uni</th>\n",
       "      <th>tottenham</th>\n",
       "    </tr>\n",
       "  </thead>\n",
       "  <tbody>\n",
       "    <tr>\n",
       "      <th>0</th>\n",
       "      <td>에데르손</td>\n",
       "      <td>데헤아</td>\n",
       "      <td>요리스</td>\n",
       "    </tr>\n",
       "    <tr>\n",
       "      <th>1</th>\n",
       "      <td>케빈데브라이너</td>\n",
       "      <td>해리맥과이어</td>\n",
       "      <td>손흥민</td>\n",
       "    </tr>\n",
       "    <tr>\n",
       "      <th>2</th>\n",
       "      <td>라힘스털링</td>\n",
       "      <td>마르코스로호</td>\n",
       "      <td>케인</td>\n",
       "    </tr>\n",
       "    <tr>\n",
       "      <th>3</th>\n",
       "      <td>가브리엘제주스</td>\n",
       "      <td>폴 포그바</td>\n",
       "      <td>베일</td>\n",
       "    </tr>\n",
       "    <tr>\n",
       "      <th>4</th>\n",
       "      <td>세르히오아게로</td>\n",
       "      <td>래시포드</td>\n",
       "      <td>라멜라</td>\n",
       "    </tr>\n",
       "  </tbody>\n",
       "</table>\n",
       "</div>"
      ],
      "text/plain": [
       "  man_city man_uni tottenham\n",
       "0     에데르손     데헤아       요리스\n",
       "1  케빈데브라이너  해리맥과이어       손흥민\n",
       "2    라힘스털링  마르코스로호        케인\n",
       "3  가브리엘제주스   폴 포그바        베일\n",
       "4  세르히오아게로    래시포드       라멜라"
      ]
     },
     "execution_count": 62,
     "metadata": {},
     "output_type": "execute_result"
    }
   ],
   "source": [
    "import pandas as pd\n",
    "\n",
    "epl_dict = {\n",
    "'man_city':['에데르손', '케빈데브라이너', '라힘스털링', '가브리엘제주스' ,'세르히오아게로'],\n",
    "'man_uni':['데헤아', '해리맥과이어', '마르코스로호', '폴 포그바', '래시포드'],\n",
    "'tottenham':['요리스', '손흥민', '케인', '베일', '라멜라']\n",
    "}\n",
    "\n",
    "epl_df = pd.DataFrame()\n",
    "\n",
    "for key in epl_dict:\n",
    "    epl_df[key] = epl_dict[key]\n",
    "\n",
    "epl_df"
   ]
  },
  {
   "cell_type": "code",
   "execution_count": 67,
   "metadata": {},
   "outputs": [
    {
     "name": "stdout",
     "output_type": "stream",
     "text": [
      "<class 'pandas.core.series.Series'>\n"
     ]
    }
   ],
   "source": [
    "print(type(epl_df['man_city']))"
   ]
  },
  {
   "cell_type": "markdown",
   "metadata": {},
   "source": [
    "#### 2. csv 파일 read"
   ]
  },
  {
   "cell_type": "code",
   "execution_count": 2,
   "metadata": {},
   "outputs": [],
   "source": [
    "#crisis_data_df = pd.read_csv(filename)\n",
    "crisis_data_df = dd.read_csv(filename)"
   ]
  },
  {
   "cell_type": "markdown",
   "metadata": {},
   "source": [
    "#### 3. 도시 이름 추출"
   ]
  },
  {
   "cell_type": "code",
   "execution_count": 3,
   "metadata": {},
   "outputs": [
    {
     "name": "stdout",
     "output_type": "stream",
     "text": [
      "0     경기\n",
      "1     강원\n",
      "2     경남\n",
      "3     경북\n",
      "4     광주\n",
      "5     대구\n",
      "6     대전\n",
      "7     부산\n",
      "8     서울\n",
      "9     세종\n",
      "10    울산\n",
      "11    인천\n",
      "12    전남\n",
      "13    전북\n",
      "14    제주\n",
      "15    충남\n",
      "16    충북\n",
      "Name: CTPRVN_NM, dtype: object\n"
     ]
    }
   ],
   "source": [
    "city_names = crisis_data_df['CTPRVN_NM'].unique().compute()\n",
    "print(city_names)"
   ]
  },
  {
   "cell_type": "markdown",
   "metadata": {},
   "source": [
    "#### 4. 도시 별로 csv 파일 분리"
   ]
  },
  {
   "cell_type": "code",
   "execution_count": 5,
   "metadata": {},
   "outputs": [],
   "source": [
    "for data in crisis_data_df['CTPRVN_NM'].unique():\n",
    "    area_crisis_df = crisis_data_df.loc[crisis_data_df['CTPRVN_NM'] == data, ['CTPRVN_NM', 'SIGNGU_NM', 'CREDT_GRAD_NM']]\n",
    "    area_crisis_df.to_csv(f'{folder_name}/{data}_crisis.csv', index=False)    "
   ]
  },
  {
   "cell_type": "code",
   "execution_count": 31,
   "metadata": {},
   "outputs": [
    {
     "name": "stdout",
     "output_type": "stream",
     "text": [
      "경기 shape : (7044468, 3)\n",
      "강원 shape : (675449, 3)\n",
      "경남 shape : (1580463, 3)\n",
      "경북 shape : (1304730, 3)\n",
      "광주 shape : (748043, 3)\n",
      "대구 shape : (911747, 3)\n",
      "대전 shape : (682867, 3)\n",
      "부산 shape : (1553898, 3)\n",
      "서울 shape : (6594490, 3)\n",
      "세종 shape : (109995, 3)\n",
      "울산 shape : (471094, 3)\n",
      "인천 shape : (1303237, 3)\n",
      "전남 shape : (1030029, 3)\n",
      "전북 shape : (905114, 3)\n",
      "제주 shape : (318116, 3)\n",
      "충남 shape : (1101381, 3)\n",
      "충북 shape : (917428, 3)\n"
     ]
    }
   ],
   "source": [
    "# 데이터 확인 \n",
    "\n",
    "for idx, city in enumerate(crisis_data_df['CTPRVN_NM'].unique()):\n",
    "    file_name = f'crisis_data/{city_names[idx]}_crisis.csv'\n",
    "    \n",
    "    shape_data = pd.read_csv(file_name)\n",
    "    \n",
    "    print(f'{city_names[idx]} shape : {shape_data.shape}')"
   ]
  },
  {
   "cell_type": "markdown",
   "metadata": {},
   "source": [
    "#### 5. 데이터 통합"
   ]
  },
  {
   "cell_type": "code",
   "execution_count": 4,
   "metadata": {},
   "outputs": [],
   "source": [
    "total_df = None\n",
    "\n",
    "for city in city_names:\n",
    "    total_df = pd.concat([total_df, pd.read_csv(f'{folder_name}/{city}_crisis.csv')], ignore_index=True)"
   ]
  },
  {
   "cell_type": "code",
   "execution_count": null,
   "metadata": {},
   "outputs": [],
   "source": []
  },
  {
   "cell_type": "code",
   "execution_count": 6,
   "metadata": {},
   "outputs": [],
   "source": [
    "total_df.to_csv('crisis_data/total_crisis.csv', index=False)"
   ]
  },
  {
   "cell_type": "code",
   "execution_count": 7,
   "metadata": {},
   "outputs": [
    {
     "data": {
      "text/plain": [
       "(27252549, 3)"
      ]
     },
     "execution_count": 7,
     "metadata": {},
     "output_type": "execute_result"
    }
   ],
   "source": [
    "total_df.shape"
   ]
  },
  {
   "cell_type": "code",
   "execution_count": 19,
   "metadata": {},
   "outputs": [
    {
     "name": "stdout",
     "output_type": "stream",
     "text": [
      "Index(['STDR_YM', 'CTPRVN_NM', 'SIGNGU_NM', 'ADSTRD_NM', 'INDUTY_LCLAS_CODE',\n",
      "       'INDUTY_MLSFC_CODE', 'INDUTY_LCLAS_NM', 'INDUTY_MLSFC_NM',\n",
      "       'PRCSS_ENTRPRS_SE_CODE', 'PRCSS_ENTRPRS_SE_NM', 'PDSMLPZ_SCTN_CODE',\n",
      "       'PDSMLPZ_SCTN_NM', 'CREDT_GRAD_NM', 'TOT_ENTRPRS_CO', 'REGIST_DE',\n",
      "       'OPERTOR_NM'],\n",
      "      dtype='object')\n",
      "['경기' '강원' '경남' '경북' '광주' '대구' '대전' '부산' '서울' '세종' '울산' '인천' '전남' '전북'\n",
      " '제주' '충남' '충북']\n",
      "Index(['STDR_YM', 'CTPRVN_NM', 'SIGNGU_NM', 'ADSTRD_NM', 'INDUTY_LCLAS_CODE',\n",
      "       'INDUTY_MLSFC_CODE', 'INDUTY_LCLAS_NM', 'INDUTY_MLSFC_NM',\n",
      "       'PRCSS_ENTRPRS_SE_CODE', 'PRCSS_ENTRPRS_SE_NM', 'PDSMLPZ_SCTN_CODE',\n",
      "       'PDSMLPZ_SCTN_NM', 'CREDT_GRAD_NM', 'TOT_ENTRPRS_CO', 'REGIST_DE',\n",
      "       'OPERTOR_NM'],\n",
      "      dtype='object')\n",
      "['서울' '세종' '울산' '인천' '전남' '전북' '제주' '충남' '충북' '경기' '강원' '경남' '경북' '광주'\n",
      " '대구' '대전' '부산']\n",
      "Index(['STDR_YM', 'CTPRVN_NM', 'SIGNGU_NM', 'ADSTRD_NM', 'INDUTY_LCLAS_CODE',\n",
      "       'INDUTY_MLSFC_CODE', 'INDUTY_LCLAS_NM', 'INDUTY_MLSFC_NM',\n",
      "       'PRCSS_ENTRPRS_SE_CODE', 'PRCSS_ENTRPRS_SE_NM', 'PDSMLPZ_SCTN_CODE',\n",
      "       'PDSMLPZ_SCTN_NM', 'CREDT_GRAD_NM', 'TOT_ENTRPRS_CO', 'REGIST_DE',\n",
      "       'OPERTOR_NM'],\n",
      "      dtype='object')\n",
      "['경기' '경남' '경북' '광주' '대구' '대전' '부산' '서울' '세종' '울산' '인천' '전남' '전북' '제주'\n",
      " '충남' '충북' '강원']\n",
      "Index(['STDR_YM', 'CTPRVN_NM', 'SIGNGU_NM', 'ADSTRD_NM', 'INDUTY_LCLAS_CODE',\n",
      "       'INDUTY_MLSFC_CODE', 'INDUTY_LCLAS_NM', 'INDUTY_MLSFC_NM',\n",
      "       'PRCSS_ENTRPRS_SE_CODE', 'PRCSS_ENTRPRS_SE_NM', 'PDSMLPZ_SCTN_CODE',\n",
      "       'PDSMLPZ_SCTN_NM', 'CREDT_GRAD_NM', 'TOT_ENTRPRS_CO', 'REGIST_DE',\n",
      "       'OPERTOR_NM'],\n",
      "      dtype='object')\n",
      "['서울' '세종' '울산' '인천' '전남' '전북' '제주' '충남' '충북' '경기' '강원' '경남' '경북' '광주'\n",
      " '대구' '대전' '부산']\n",
      "Index(['STDR_YM', 'CTPRVN_NM', 'SIGNGU_NM', 'ADSTRD_NM', 'INDUTY_LCLAS_CODE',\n",
      "       'INDUTY_MLSFC_CODE', 'INDUTY_LCLAS_NM', 'INDUTY_MLSFC_NM',\n",
      "       'PRCSS_ENTRPRS_SE_CODE', 'PRCSS_ENTRPRS_SE_NM', 'PDSMLPZ_SCTN_CODE',\n",
      "       'PDSMLPZ_SCTN_NM', 'CREDT_GRAD_NM', 'TOT_ENTRPRS_CO', 'REGIST_DE',\n",
      "       'OPERTOR_NM'],\n",
      "      dtype='object')\n",
      "['서울' '세종' '울산' '인천' '전남' '전북' '제주' '충남' '충북' '경기' '강원' '경남' '경북' '광주'\n",
      " '대구' '대전' '부산']\n",
      "Index(['STDR_YM', 'CTPRVN_NM', 'SIGNGU_NM', 'ADSTRD_NM', 'INDUTY_LCLAS_CODE',\n",
      "       'INDUTY_MLSFC_CODE', 'INDUTY_LCLAS_NM', 'INDUTY_MLSFC_NM',\n",
      "       'PRCSS_ENTRPRS_SE_CODE', 'PRCSS_ENTRPRS_SE_NM', 'PDSMLPZ_SCTN_CODE',\n",
      "       'PDSMLPZ_SCTN_NM', 'CREDT_GRAD_NM', 'TOT_ENTRPRS_CO', 'REGIST_DE',\n",
      "       'OPERTOR_NM'],\n",
      "      dtype='object')\n",
      "['경기' '경남' '경북' '광주' '대구' '대전' '부산' '서울' '세종' '울산' '인천' '전남' '전북' '제주'\n",
      " '충남' '충북' '강원']\n",
      "Index(['STDR_YM', 'CTPRVN_NM', 'SIGNGU_NM', 'ADSTRD_NM', 'INDUTY_LCLAS_CODE',\n",
      "       'INDUTY_MLSFC_CODE', 'INDUTY_LCLAS_NM', 'INDUTY_MLSFC_NM',\n",
      "       'PRCSS_ENTRPRS_SE_CODE', 'PRCSS_ENTRPRS_SE_NM', 'PDSMLPZ_SCTN_CODE',\n",
      "       'PDSMLPZ_SCTN_NM', 'CREDT_GRAD_NM', 'TOT_ENTRPRS_CO', 'REGIST_DE',\n",
      "       'OPERTOR_NM'],\n",
      "      dtype='object')\n",
      "['대구' '대전' '부산' '서울' '세종' '울산' '인천' '전남' '전북' '제주' '충남' '충북' '강원' '경기'\n",
      " '경남' '경북' '광주']\n",
      "Index(['STDR_YM', 'CTPRVN_NM', 'SIGNGU_NM', 'ADSTRD_NM', 'INDUTY_LCLAS_CODE',\n",
      "       'INDUTY_MLSFC_CODE', 'INDUTY_LCLAS_NM', 'INDUTY_MLSFC_NM',\n",
      "       'PRCSS_ENTRPRS_SE_CODE', 'PRCSS_ENTRPRS_SE_NM', 'PDSMLPZ_SCTN_CODE',\n",
      "       'PDSMLPZ_SCTN_NM', 'CREDT_GRAD_NM', 'TOT_ENTRPRS_CO', 'REGIST_DE',\n",
      "       'OPERTOR_NM'],\n",
      "      dtype='object')\n",
      "['부산' '서울' '세종' '울산' '인천' '전남' '전북' '제주' '충남' '충북' '강원' '경기' '경남' '경북'\n",
      " '광주' '대구' '대전']\n",
      "Index(['STDR_YM', 'CTPRVN_NM', 'SIGNGU_NM', 'ADSTRD_NM', 'INDUTY_LCLAS_CODE',\n",
      "       'INDUTY_MLSFC_CODE', 'INDUTY_LCLAS_NM', 'INDUTY_MLSFC_NM',\n",
      "       'PRCSS_ENTRPRS_SE_CODE', 'PRCSS_ENTRPRS_SE_NM', 'PDSMLPZ_SCTN_CODE',\n",
      "       'PDSMLPZ_SCTN_NM', 'CREDT_GRAD_NM', 'TOT_ENTRPRS_CO', 'REGIST_DE',\n",
      "       'OPERTOR_NM'],\n",
      "      dtype='object')\n",
      "['경북' '광주' '대구' '대전' '부산' '서울' '세종' '울산' '인천' '전남' '전북' '제주' '충남' '충북'\n",
      " '강원' '경기' '경남']\n",
      "Index(['STDR_YM', 'CTPRVN_NM', 'SIGNGU_NM', 'ADSTRD_NM', 'INDUTY_LCLAS_CODE',\n",
      "       'INDUTY_MLSFC_CODE', 'INDUTY_LCLAS_NM', 'INDUTY_MLSFC_NM',\n",
      "       'PRCSS_ENTRPRS_SE_CODE', 'PRCSS_ENTRPRS_SE_NM', 'PDSMLPZ_SCTN_CODE',\n",
      "       'PDSMLPZ_SCTN_NM', 'CREDT_GRAD_NM', 'TOT_ENTRPRS_CO', 'REGIST_DE',\n",
      "       'OPERTOR_NM'],\n",
      "      dtype='object')\n",
      "['경기' '경남' '경북' '광주' '대구' '대전' '부산' '서울' '세종' '울산' '인천' '전남' '전북' '제주'\n",
      " '충남' '충북' '강원']\n",
      "Index(['STDR_YM', 'CTPRVN_NM', 'SIGNGU_NM', 'ADSTRD_NM', 'INDUTY_LCLAS_CODE',\n",
      "       'INDUTY_MLSFC_CODE', 'INDUTY_LCLAS_NM', 'INDUTY_MLSFC_NM',\n",
      "       'PRCSS_ENTRPRS_SE_CODE', 'PRCSS_ENTRPRS_SE_NM', 'PDSMLPZ_SCTN_CODE',\n",
      "       'PDSMLPZ_SCTN_NM', 'CREDT_GRAD_NM', 'TOT_ENTRPRS_CO', 'REGIST_DE',\n",
      "       'OPERTOR_NM'],\n",
      "      dtype='object')\n",
      "['서울' '세종' '울산' '인천' '전남' '전북' '제주' '충남' '충북' '강원' '경기' '경남' '경북' '광주'\n",
      " '대구' '대전' '부산']\n",
      "Index(['STDR_YM', 'CTPRVN_NM', 'SIGNGU_NM', 'ADSTRD_NM', 'INDUTY_LCLAS_CODE',\n",
      "       'INDUTY_MLSFC_CODE', 'INDUTY_LCLAS_NM', 'INDUTY_MLSFC_NM',\n",
      "       'PRCSS_ENTRPRS_SE_CODE', 'PRCSS_ENTRPRS_SE_NM', 'PDSMLPZ_SCTN_CODE',\n",
      "       'PDSMLPZ_SCTN_NM', 'CREDT_GRAD_NM', 'TOT_ENTRPRS_CO', 'REGIST_DE',\n",
      "       'OPERTOR_NM'],\n",
      "      dtype='object')\n",
      "['서울' '세종' '울산' '인천' '전남' '전북' '제주' '충남' '충북' '강원' '경기' '경남' '경북' '광주'\n",
      " '대구' '대전' '부산']\n",
      "Index(['STDR_YM', 'CTPRVN_NM', 'SIGNGU_NM', 'ADSTRD_NM', 'INDUTY_LCLAS_CODE',\n",
      "       'INDUTY_MLSFC_CODE', 'INDUTY_LCLAS_NM', 'INDUTY_MLSFC_NM',\n",
      "       'PRCSS_ENTRPRS_SE_CODE', 'PRCSS_ENTRPRS_SE_NM', 'PDSMLPZ_SCTN_CODE',\n",
      "       'PDSMLPZ_SCTN_NM', 'CREDT_GRAD_NM', 'TOT_ENTRPRS_CO', 'REGIST_DE',\n",
      "       'OPERTOR_NM'],\n",
      "      dtype='object')\n",
      "['경기' '경남' '경북' '광주' '대구' '대전' '부산' '서울' '세종' '울산' '인천' '전남' '전북' '제주'\n",
      " '충남' '충북' '강원']\n",
      "Index(['STDR_YM', 'CTPRVN_NM', 'SIGNGU_NM', 'ADSTRD_NM', 'INDUTY_LCLAS_CODE',\n",
      "       'INDUTY_MLSFC_CODE', 'INDUTY_LCLAS_NM', 'INDUTY_MLSFC_NM',\n",
      "       'PRCSS_ENTRPRS_SE_CODE', 'PRCSS_ENTRPRS_SE_NM', 'PDSMLPZ_SCTN_CODE',\n",
      "       'PDSMLPZ_SCTN_NM', 'CREDT_GRAD_NM', 'TOT_ENTRPRS_CO', 'REGIST_DE',\n",
      "       'OPERTOR_NM'],\n",
      "      dtype='object')\n",
      "['전남' '전북' '제주' '충남' '충북' '강원' '경기' '경남' '경북' '광주' '대구' '대전' '부산' '서울'\n",
      " '세종' '울산' '인천']\n",
      "Index(['STDR_YM', 'CTPRVN_NM', 'SIGNGU_NM', 'ADSTRD_NM', 'INDUTY_LCLAS_CODE',\n",
      "       'INDUTY_MLSFC_CODE', 'INDUTY_LCLAS_NM', 'INDUTY_MLSFC_NM',\n",
      "       'PRCSS_ENTRPRS_SE_CODE', 'PRCSS_ENTRPRS_SE_NM', 'PDSMLPZ_SCTN_CODE',\n",
      "       'PDSMLPZ_SCTN_NM', 'CREDT_GRAD_NM', 'TOT_ENTRPRS_CO', 'REGIST_DE',\n",
      "       'OPERTOR_NM'],\n",
      "      dtype='object')\n",
      "['경기' '경남' '경북' '광주' '대구' '대전' '부산' '서울' '세종' '울산' '인천' '전남' '전북' '제주'\n",
      " '충남' '충북' '강원']\n",
      "Index(['STDR_YM', 'CTPRVN_NM', 'SIGNGU_NM', 'ADSTRD_NM', 'INDUTY_LCLAS_CODE',\n",
      "       'INDUTY_MLSFC_CODE', 'INDUTY_LCLAS_NM', 'INDUTY_MLSFC_NM',\n",
      "       'PRCSS_ENTRPRS_SE_CODE', 'PRCSS_ENTRPRS_SE_NM', 'PDSMLPZ_SCTN_CODE',\n",
      "       'PDSMLPZ_SCTN_NM', 'CREDT_GRAD_NM', 'TOT_ENTRPRS_CO', 'REGIST_DE',\n",
      "       'OPERTOR_NM'],\n",
      "      dtype='object')\n",
      "['대전' '부산' '대구' '서울' '세종' '울산' '인천' '전남' '전북' '제주' '충남' '충북' '강원' '경기'\n",
      " '경남' '경북' '광주']\n",
      "Index(['STDR_YM', 'CTPRVN_NM', 'SIGNGU_NM', 'ADSTRD_NM', 'INDUTY_LCLAS_CODE',\n",
      "       'INDUTY_MLSFC_CODE', 'INDUTY_LCLAS_NM', 'INDUTY_MLSFC_NM',\n",
      "       'PRCSS_ENTRPRS_SE_CODE', 'PRCSS_ENTRPRS_SE_NM', 'PDSMLPZ_SCTN_CODE',\n",
      "       'PDSMLPZ_SCTN_NM', 'CREDT_GRAD_NM', 'TOT_ENTRPRS_CO', 'REGIST_DE',\n",
      "       'OPERTOR_NM'],\n",
      "      dtype='object')\n",
      "['서울' '세종' '울산' '인천' '전남' '전북' '제주' '충남' '충북' '강원' '경기' '경남' '경북' '광주'\n",
      " '대구' '대전' '부산']\n",
      "Index(['STDR_YM', 'CTPRVN_NM', 'SIGNGU_NM', 'ADSTRD_NM', 'INDUTY_LCLAS_CODE',\n",
      "       'INDUTY_MLSFC_CODE', 'INDUTY_LCLAS_NM', 'INDUTY_MLSFC_NM',\n",
      "       'PRCSS_ENTRPRS_SE_CODE', 'PRCSS_ENTRPRS_SE_NM', 'PDSMLPZ_SCTN_CODE',\n",
      "       'PDSMLPZ_SCTN_NM', 'CREDT_GRAD_NM', 'TOT_ENTRPRS_CO', 'REGIST_DE',\n",
      "       'OPERTOR_NM'],\n",
      "      dtype='object')\n",
      "['서울' '세종' '울산' '인천' '전남' '전북' '제주' '충남' '충북' '강원' '경기' '경남' '경북' '광주'\n",
      " '대구' '대전' '부산']\n",
      "Index(['STDR_YM', 'CTPRVN_NM', 'SIGNGU_NM', 'ADSTRD_NM', 'INDUTY_LCLAS_CODE',\n",
      "       'INDUTY_MLSFC_CODE', 'INDUTY_LCLAS_NM', 'INDUTY_MLSFC_NM',\n",
      "       'PRCSS_ENTRPRS_SE_CODE', 'PRCSS_ENTRPRS_SE_NM', 'PDSMLPZ_SCTN_CODE',\n",
      "       'PDSMLPZ_SCTN_NM', 'CREDT_GRAD_NM', 'TOT_ENTRPRS_CO', 'REGIST_DE',\n",
      "       'OPERTOR_NM'],\n",
      "      dtype='object')\n",
      "['대구' '광주' '대전' '부산' '서울' '세종' '울산' '인천' '전남' '전북' '제주' '충남' '충북' '강원'\n",
      " '경기' '경남' '경북']\n",
      "Index(['STDR_YM', 'CTPRVN_NM', 'SIGNGU_NM', 'ADSTRD_NM', 'INDUTY_LCLAS_CODE',\n",
      "       'INDUTY_MLSFC_CODE', 'INDUTY_LCLAS_NM', 'INDUTY_MLSFC_NM',\n",
      "       'PRCSS_ENTRPRS_SE_CODE', 'PRCSS_ENTRPRS_SE_NM', 'PDSMLPZ_SCTN_CODE',\n",
      "       'PDSMLPZ_SCTN_NM', 'CREDT_GRAD_NM', 'TOT_ENTRPRS_CO', 'REGIST_DE',\n",
      "       'OPERTOR_NM'],\n",
      "      dtype='object')\n",
      "['충북' '충남' '강원' '경기' '경남' '경북' '광주' '대구' '대전' '부산' '서울' '세종' '울산' '인천'\n",
      " '전남' '전북' '제주']\n"
     ]
    },
    {
     "name": "stdout",
     "output_type": "stream",
     "text": [
      "Index(['STDR_YM', 'CTPRVN_NM', 'SIGNGU_NM', 'ADSTRD_NM', 'INDUTY_LCLAS_CODE',\n",
      "       'INDUTY_MLSFC_CODE', 'INDUTY_LCLAS_NM', 'INDUTY_MLSFC_NM',\n",
      "       'PRCSS_ENTRPRS_SE_CODE', 'PRCSS_ENTRPRS_SE_NM', 'PDSMLPZ_SCTN_CODE',\n",
      "       'PDSMLPZ_SCTN_NM', 'CREDT_GRAD_NM', 'TOT_ENTRPRS_CO', 'REGIST_DE',\n",
      "       'OPERTOR_NM'],\n",
      "      dtype='object')\n",
      "['경남' '경북' '광주' '대구' '대전' '부산' '서울' '세종' '울산' '인천' '전남' '전북' '제주' '충남'\n",
      " '충북' '강원' '경기']\n",
      "Index(['STDR_YM', 'CTPRVN_NM', 'SIGNGU_NM', 'ADSTRD_NM', 'INDUTY_LCLAS_CODE',\n",
      "       'INDUTY_MLSFC_CODE', 'INDUTY_LCLAS_NM', 'INDUTY_MLSFC_NM',\n",
      "       'PRCSS_ENTRPRS_SE_CODE', 'PRCSS_ENTRPRS_SE_NM', 'PDSMLPZ_SCTN_CODE',\n",
      "       'PDSMLPZ_SCTN_NM', 'CREDT_GRAD_NM', 'TOT_ENTRPRS_CO', 'REGIST_DE',\n",
      "       'OPERTOR_NM'],\n",
      "      dtype='object')\n",
      "['서울' '세종' '울산' '인천' '전남' '전북' '제주' '충남' '충북' '강원' '경기' '경남' '경북' '광주'\n",
      " '대구' '대전' '부산']\n",
      "Index(['STDR_YM', 'CTPRVN_NM', 'SIGNGU_NM', 'ADSTRD_NM', 'INDUTY_LCLAS_CODE',\n",
      "       'INDUTY_MLSFC_CODE', 'INDUTY_LCLAS_NM', 'INDUTY_MLSFC_NM',\n",
      "       'PRCSS_ENTRPRS_SE_CODE', 'PRCSS_ENTRPRS_SE_NM', 'PDSMLPZ_SCTN_CODE',\n",
      "       'PDSMLPZ_SCTN_NM', 'CREDT_GRAD_NM', 'TOT_ENTRPRS_CO', 'REGIST_DE',\n",
      "       'OPERTOR_NM'],\n",
      "      dtype='object')\n",
      "['대구' '대전' '부산' '서울' '세종' '울산' '인천' '전남' '전북' '제주' '충남' '충북' '강원' '경기'\n",
      " '경남' '경북' '광주']\n",
      "Index(['STDR_YM', 'CTPRVN_NM', 'SIGNGU_NM', 'ADSTRD_NM', 'INDUTY_LCLAS_CODE',\n",
      "       'INDUTY_MLSFC_CODE', 'INDUTY_LCLAS_NM', 'INDUTY_MLSFC_NM',\n",
      "       'PRCSS_ENTRPRS_SE_CODE', 'PRCSS_ENTRPRS_SE_NM', 'PDSMLPZ_SCTN_CODE',\n",
      "       'PDSMLPZ_SCTN_NM', 'CREDT_GRAD_NM', 'TOT_ENTRPRS_CO', 'REGIST_DE',\n",
      "       'OPERTOR_NM'],\n",
      "      dtype='object')\n",
      "['경기' '경남' '경북' '광주' '대구' '대전' '부산' '서울' '세종' '울산' '인천' '전남' '전북' '제주'\n",
      " '충남' '충북' '강원']\n",
      "Index(['STDR_YM', 'CTPRVN_NM', 'SIGNGU_NM', 'ADSTRD_NM', 'INDUTY_LCLAS_CODE',\n",
      "       'INDUTY_MLSFC_CODE', 'INDUTY_LCLAS_NM', 'INDUTY_MLSFC_NM',\n",
      "       'PRCSS_ENTRPRS_SE_CODE', 'PRCSS_ENTRPRS_SE_NM', 'PDSMLPZ_SCTN_CODE',\n",
      "       'PDSMLPZ_SCTN_NM', 'CREDT_GRAD_NM', 'TOT_ENTRPRS_CO', 'REGIST_DE',\n",
      "       'OPERTOR_NM'],\n",
      "      dtype='object')\n",
      "['경남' '경기' '경북' '광주' '대구' '대전' '부산' '서울' '세종' '울산' '인천' '전남' '전북' '제주'\n",
      " '충남' '충북' '강원']\n",
      "Index(['STDR_YM', 'CTPRVN_NM', 'SIGNGU_NM', 'ADSTRD_NM', 'INDUTY_LCLAS_CODE',\n",
      "       'INDUTY_MLSFC_CODE', 'INDUTY_LCLAS_NM', 'INDUTY_MLSFC_NM',\n",
      "       'PRCSS_ENTRPRS_SE_CODE', 'PRCSS_ENTRPRS_SE_NM', 'PDSMLPZ_SCTN_CODE',\n",
      "       'PDSMLPZ_SCTN_NM', 'CREDT_GRAD_NM', 'TOT_ENTRPRS_CO', 'REGIST_DE',\n",
      "       'OPERTOR_NM'],\n",
      "      dtype='object')\n",
      "['경북' '광주' '대구' '대전' '부산' '서울' '세종' '울산' '인천' '전남' '전북' '제주' '충남' '충북'\n",
      " '강원' '경기' '경남']\n",
      "Index(['STDR_YM', 'CTPRVN_NM', 'SIGNGU_NM', 'ADSTRD_NM', 'INDUTY_LCLAS_CODE',\n",
      "       'INDUTY_MLSFC_CODE', 'INDUTY_LCLAS_NM', 'INDUTY_MLSFC_NM',\n",
      "       'PRCSS_ENTRPRS_SE_CODE', 'PRCSS_ENTRPRS_SE_NM', 'PDSMLPZ_SCTN_CODE',\n",
      "       'PDSMLPZ_SCTN_NM', 'CREDT_GRAD_NM', 'TOT_ENTRPRS_CO', 'REGIST_DE',\n",
      "       'OPERTOR_NM'],\n",
      "      dtype='object')\n",
      "['경북' '광주' '대구' '대전' '부산' '서울' '세종' '울산' '인천' '전남' '전북' '제주' '충남' '충북'\n",
      " '강원' '경기' '경남']\n",
      "Index(['STDR_YM', 'CTPRVN_NM', 'SIGNGU_NM', 'ADSTRD_NM', 'INDUTY_LCLAS_CODE',\n",
      "       'INDUTY_MLSFC_CODE', 'INDUTY_LCLAS_NM', 'INDUTY_MLSFC_NM',\n",
      "       'PRCSS_ENTRPRS_SE_CODE', 'PRCSS_ENTRPRS_SE_NM', 'PDSMLPZ_SCTN_CODE',\n",
      "       'PDSMLPZ_SCTN_NM', 'CREDT_GRAD_NM', 'TOT_ENTRPRS_CO', 'REGIST_DE',\n",
      "       'OPERTOR_NM'],\n",
      "      dtype='object')\n",
      "['경기' '경남' '경북' '광주' '대구' '대전' '부산' '서울' '세종' '울산' '인천' '전남' '전북' '제주'\n",
      " '충남' '충북']\n"
     ]
    }
   ],
   "source": [
    "import pandas as pd \n",
    "\n",
    "filename = 'data/TC_EN_AREA_CRISIS_INFO.csv'\n",
    "chunksize = 10 ** 6\n",
    "for cnt, chunk in enumerate(pd.read_csv(filename, chunksize=chunksize)):\n",
    "    seoul_crisis_data = chunk.loc[chunk['CTPRVN_NM'] == '서울', ['CTPRVN_NM', 'CREDT_GRAD_NM']]"
   ]
  },
  {
   "cell_type": "code",
   "execution_count": null,
   "metadata": {},
   "outputs": [],
   "source": [
    "# csv 파일로 저장하기\n",
    "#data_df.to_csv(file_name, index=False)\n",
    "data_df.to_csv(file_name, index=False)"
   ]
  },
  {
   "cell_type": "code",
   "execution_count": null,
   "metadata": {},
   "outputs": [],
   "source": [
    "# 컬럼명 변경\n",
    "table_df = table_df.rename(columns={'선거구2':'선거구', '당선횟수2':'당선횟수'})\n",
    "table_df.columns"
   ]
  },
  {
   "cell_type": "code",
   "execution_count": null,
   "metadata": {},
   "outputs": [],
   "source": [
    "#like search\n",
    "member_df.loc[member_df['취미, 특기'].str.contains('수영'), ['이름','정당','나이','취미, 특기']]"
   ]
  },
  {
   "cell_type": "code",
   "execution_count": null,
   "metadata": {},
   "outputs": [],
   "source": [
    "member_df['취미, 특기'].value_counts()"
   ]
  },
  {
   "cell_type": "code",
   "execution_count": null,
   "metadata": {},
   "outputs": [],
   "source": []
  }
 ],
 "metadata": {
  "kernelspec": {
   "display_name": "Python 3",
   "language": "python",
   "name": "python3"
  },
  "language_info": {
   "codemirror_mode": {
    "name": "ipython",
    "version": 3
   },
   "file_extension": ".py",
   "mimetype": "text/x-python",
   "name": "python",
   "nbconvert_exporter": "python",
   "pygments_lexer": "ipython3",
   "version": "3.8.3"
  }
 },
 "nbformat": 4,
 "nbformat_minor": 4
}
